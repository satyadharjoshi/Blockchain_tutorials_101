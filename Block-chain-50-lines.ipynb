{
 "cells": [
  {
   "cell_type": "code",
   "execution_count": 12,
   "metadata": {
    "collapsed": true
   },
   "outputs": [],
   "source": [
    "import hashlib as hasher\n",
    "import hashlib\n",
    "\n",
    "\n",
    "class Block:\n",
    "    def __init__(self, index, timestamp, data, previous_hash):\n",
    "        self.index = index\n",
    "        self.timestamp = timestamp\n",
    "        self.data = data\n",
    "        self.previous_hash = previous_hash\n",
    "        self.hash = self.hash_block()\n",
    "  \n",
    "    def hash_block(self):\n",
    "        sha = hasher.sha256()\n",
    "        sha.update(str(self.index).encode('utf-8') + \n",
    "                   str(self.timestamp).encode('utf-8') + \n",
    "                   str(self.data).encode('utf-8') + \n",
    "                   #hash.update(('%s%s' % (password_salt, password)).encode('utf-8'))\n",
    "                   str(self.previous_hash).encode('utf-8'))\n",
    "        return sha.hexdigest()\n",
    "    \n",
    "\n"
   ]
  },
  {
   "cell_type": "code",
   "execution_count": 13,
   "metadata": {
    "collapsed": true
   },
   "outputs": [],
   "source": [
    "\n",
    "import datetime as date\n",
    "\n",
    "def create_genesis_block():\n",
    "    # Manually construct a block with\n",
    "    # index zero and arbitrary previous hash\n",
    "    return Block(0, date.datetime.now(), \"Genesis Block\", \"0\")"
   ]
  },
  {
   "cell_type": "code",
   "execution_count": 14,
   "metadata": {},
   "outputs": [
    {
     "data": {
      "text/plain": [
       "<__main__.Block at 0xe9925bc2e8>"
      ]
     },
     "execution_count": 14,
     "metadata": {},
     "output_type": "execute_result"
    }
   ],
   "source": [
    "create_genesis_block()"
   ]
  },
  {
   "cell_type": "code",
   "execution_count": 15,
   "metadata": {
    "collapsed": true
   },
   "outputs": [],
   "source": [
    "\n",
    "def next_block(last_block):\n",
    "    this_index = last_block.index + 1\n",
    "    this_timestamp = date.datetime.now()\n",
    "    this_data = \"Hey! I'm block \" + str(this_index)\n",
    "    this_hash = last_block.hash\n",
    "    return Block(this_index, this_timestamp, this_data, this_hash)"
   ]
  },
  {
   "cell_type": "code",
   "execution_count": 16,
   "metadata": {
    "collapsed": true
   },
   "outputs": [],
   "source": [
    "\n",
    "def next_block(last_block):\n",
    "    this_index = last_block.index + 1\n",
    "    this_timestamp = date.datetime.now()\n",
    "    this_data = \"Hey! I'm block \" + str(this_index)\n",
    "    this_hash = last_block.hash\n",
    "    return Block(this_index, this_timestamp, this_data, this_hash)"
   ]
  },
  {
   "cell_type": "code",
   "execution_count": 17,
   "metadata": {},
   "outputs": [
    {
     "name": "stdout",
     "output_type": "stream",
     "text": [
      "Block #1 has been added to the blockchain!\n",
      "Hash: aa233931513a2fa0983938b12ee5d9309c87331aaec4cf29a203faee4871d070\n",
      "\n",
      "Block #2 has been added to the blockchain!\n",
      "Hash: 6373fb499e7b6054c1c72216931794b7eccfb26d7ad5d8bd4d7858842771e3ba\n",
      "\n",
      "Block #3 has been added to the blockchain!\n",
      "Hash: c70e55afa69bec1db9cdb1bf4a6182acaae6b35230e3d4be779af20b7ed138c8\n",
      "\n",
      "Block #4 has been added to the blockchain!\n",
      "Hash: cee0ea39082e642eca2b6e6556c67d5b1467a0103dd74af6c980b6d9b3965b92\n",
      "\n",
      "Block #5 has been added to the blockchain!\n",
      "Hash: 1b227474955f3c4cadd33fce89a91e051af3242ff28618d45c6f761ce2450c19\n",
      "\n",
      "Block #6 has been added to the blockchain!\n",
      "Hash: db92aef0713d60c5596465f7fbd703af55eb709a8f26402448aa162131daf81f\n",
      "\n",
      "Block #7 has been added to the blockchain!\n",
      "Hash: 61b92e413adcb8945025ea1a1dd1565ede1b59220bc6fa763ad7e626284ce341\n",
      "\n",
      "Block #8 has been added to the blockchain!\n",
      "Hash: 7fb7f5245dd66844ac2d469d46390f1833e3f677462c21336013f1aa291312c3\n",
      "\n",
      "Block #9 has been added to the blockchain!\n",
      "Hash: e788b36b00aacd804b797a1232d4ab7d1439f8dafe3de0e3bbbc4ea6a2ab824f\n",
      "\n",
      "Block #10 has been added to the blockchain!\n",
      "Hash: a159d11253bdeff5f66dc74317689b8c1f6212f79e54efb3b18ba4a22eb24e3c\n",
      "\n",
      "Block #11 has been added to the blockchain!\n",
      "Hash: ca1d2eb8a6ad238889aafceab863cf2a2e8415fce51dc0032648bca343772518\n",
      "\n",
      "Block #12 has been added to the blockchain!\n",
      "Hash: 893ee8016ae0fba85a472f0899312294994b19a53c0b99683352b120e0ec73c0\n",
      "\n",
      "Block #13 has been added to the blockchain!\n",
      "Hash: 274eb78ff9f75ce8a4e3df7140098e59c494fceaa0a9465963f27d0bc596e3e5\n",
      "\n",
      "Block #14 has been added to the blockchain!\n",
      "Hash: f352b1956e83ef766d275f7f99bb6fb0046063222ba553db2f8437a211a0f35e\n",
      "\n",
      "Block #15 has been added to the blockchain!\n",
      "Hash: 4312967eb084db83277d28b0cab5bfb73e99ddb13d9c7d45ffe20f862ecb9eb0\n",
      "\n",
      "Block #16 has been added to the blockchain!\n",
      "Hash: c65a701a68b03f16e8b6868c762a6416642c95963a78d49f9e31496e7842cffa\n",
      "\n",
      "Block #17 has been added to the blockchain!\n",
      "Hash: f291e242ba91cae8e2c9979e3294f62d63f21243f5b2fb85924dbdf092852d05\n",
      "\n",
      "Block #18 has been added to the blockchain!\n",
      "Hash: a2d6fefdb40372e06ee8114db566e522e2938eb7b5f68e78d654ba4f8d45ce7e\n",
      "\n",
      "Block #19 has been added to the blockchain!\n",
      "Hash: dcbc8487b1f4038e5e2ec064192ebd88b0aea046593c4e8fab6f0fd34ca4b2a9\n",
      "\n",
      "Block #20 has been added to the blockchain!\n",
      "Hash: c5b6687c73cf7035ecd3503e49571cfededb1d10ef22af1ef5c8b45f32bcd0a3\n",
      "\n"
     ]
    }
   ],
   "source": [
    "\n",
    "# Create the blockchain and add the genesis block\n",
    "blockchain = [create_genesis_block()]\n",
    "previous_block = blockchain[0]\n",
    "\n",
    "# How many blocks should we add to the chain\n",
    "# after the genesis block\n",
    "num_of_blocks_to_add = 20\n",
    "\n",
    "# Add blocks to the chain\n",
    "for i in range(0, num_of_blocks_to_add):\n",
    "    block_to_add = next_block(previous_block)\n",
    "    blockchain.append(block_to_add)\n",
    "    previous_block = block_to_add\n",
    "    # Tell everyone about it!\n",
    "    print (\"Block #{} has been added to the blockchain!\".format(block_to_add.index))\n",
    "    print (\"Hash: {}\\n\".format(block_to_add.hash)) "
   ]
  },
  {
   "cell_type": "code",
   "execution_count": null,
   "metadata": {},
   "outputs": [],
   "source": [
    "blockchain[1].data"
   ]
  },
  {
   "cell_type": "code",
   "execution_count": 27,
   "metadata": {},
   "outputs": [
    {
     "ename": "TypeError",
     "evalue": "string indices must be integers",
     "output_type": "error",
     "traceback": [
      "\u001b[1;31m---------------------------------------------------------------------------\u001b[0m",
      "\u001b[1;31mTypeError\u001b[0m                                 Traceback (most recent call last)",
      "\u001b[1;32m<ipython-input-27-c9ca95f7b127>\u001b[0m in \u001b[0;36m<module>\u001b[1;34m()\u001b[0m\n\u001b[1;32m----> 1\u001b[1;33m \u001b[0mblockchain\u001b[0m\u001b[1;33m[\u001b[0m\u001b[1;36m1\u001b[0m\u001b[1;33m]\u001b[0m\u001b[1;33m.\u001b[0m\u001b[0mdata\u001b[0m\u001b[1;33m[\u001b[0m\u001b[1;34m'proof-of-work'\u001b[0m\u001b[1;33m]\u001b[0m\u001b[1;33m\u001b[0m\u001b[0m\n\u001b[0m",
      "\u001b[1;31mTypeError\u001b[0m: string indices must be integers"
     ]
    }
   ],
   "source": [
    "blockchain[1].data ['proof-of-work']"
   ]
  },
  {
   "cell_type": "code",
   "execution_count": 9,
   "metadata": {},
   "outputs": [],
   "source": [
    "new_txion={\n",
    "  \"from\": \"71238uqirbfh894-random-public-key-a-alkjdflakjfewn204ij\",\n",
    "  \"to\": \"93j4ivnqiopvh43-random-public-key-b-qjrgvnoeirbnferinfo\",\n",
    "  \"amount\": 3\n",
    "}"
   ]
  },
  {
   "cell_type": "code",
   "execution_count": null,
   "metadata": {},
   "outputs": [],
   "source": [
    "from flask import Flask\n",
    "from flask import request\n",
    "node = Flask(__name__)\n",
    "\n",
    "@node.route('/')\n",
    "def hello_world():\n",
    "    return 'hello world!'\n",
    "node.run()"
   ]
  },
  {
   "cell_type": "code",
   "execution_count": 1,
   "metadata": {},
   "outputs": [
    {
     "name": "stderr",
     "output_type": "stream",
     "text": [
      " * Running on http://127.0.0.1:5000/ (Press CTRL+C to quit)\n",
      "127.0.0.1 - - [19/Feb/2018 18:36:37] \"GET / HTTP/1.1\" 404 -\n",
      "127.0.0.1 - - [19/Feb/2018 18:36:41] \"GET /txion HTTP/1.1\" 405 -\n"
     ]
    }
   ],
   "source": [
    "from flask import Flask\n",
    "from flask import request\n",
    "node = Flask(__name__)\n",
    "\n",
    "# Store the transactions that\n",
    "# this node has in a list\n",
    "this_nodes_transactions = []\n",
    "\n",
    "@node.route('/txion', methods=['POST'])\n",
    "#@node.route('/txion', methods=['POST'])\n",
    "def transaction():\n",
    "    if request.method == 'POST':\n",
    "        # On each new POST request,\n",
    "        # we extract the transaction data\n",
    "        #new_txion = request.get_json()\n",
    "        # Then we add the transaction to our list\n",
    "        #this_nodes_transactions.append(new_txion)\n",
    "        # Because the transaction was successfully\n",
    "        # submitted, we log it to our console\n",
    "        print (\"New transaction\")\n",
    "        print (\"FROM: {}\".format(new_txion['from']))\n",
    "        print (\"TO: {}\".format(new_txion['to']))\n",
    "        print (\"AMOUNT: {}\\n\".format(new_txion['amount']))\n",
    "        # Then we let the client know it worked out\n",
    "    return (\"Transaction submission successful\\n\")\n",
    "\n",
    "node.run()"
   ]
  },
  {
   "cell_type": "code",
   "execution_count": 10,
   "metadata": {},
   "outputs": [
    {
     "name": "stdout",
     "output_type": "stream",
     "text": [
      "New transaction\n",
      "FROM: 71238uqirbfh894-random-public-key-a-alkjdflakjfewn204ij\n",
      "TO: 93j4ivnqiopvh43-random-public-key-b-qjrgvnoeirbnferinfo\n",
      "AMOUNT: 3\n",
      "\n"
     ]
    },
    {
     "data": {
      "text/plain": [
       "'Transaction submission successful\\n'"
      ]
     },
     "execution_count": 10,
     "metadata": {},
     "output_type": "execute_result"
    }
   ],
   "source": [
    "def transaction2():\n",
    "    # On each new POST request,\n",
    "    # we extract the transaction data\n",
    "    #new_txion = request.get_json()\n",
    "    # Then we add the transaction to our list\n",
    "    #this_nodes_transactions.append(new_txion)\n",
    "    # Because the transaction was successfully\n",
    "    # submitted, we log it to our console\n",
    "    print (\"New transaction\")\n",
    "    print (\"FROM: {}\".format(new_txion['from']))\n",
    "    print (\"TO: {}\".format(new_txion['to']))\n",
    "    print (\"AMOUNT: {}\\n\".format(new_txion['amount']))\n",
    "    # Then we let the client know it worked out\n",
    "    return (\"Transaction submission successful\\n\")\n",
    "\n",
    "transaction2()"
   ]
  },
  {
   "cell_type": "code",
   "execution_count": null,
   "metadata": {},
   "outputs": [],
   "source": [
    "# ...blockchain\n",
    "# ...Block class definition\n",
    "\n",
    "miner_address = \"q3nf394hjg-random-miner-address-34nf3i4nflkn3oi\"\n",
    "\n",
    "def proof_of_work(last_proof):\n",
    "    # Create a variable that we will use to find\n",
    "    # our next proof of work\n",
    "    incrementor = last_proof + 1\n",
    "    # Keep incrementing the incrementor until\n",
    "    # it's equal to a number divisible by 9\n",
    "    # and the proof of work of the previous\n",
    "    # block in the chain\n",
    "    while not (incrementor % 9 == 0 and incrementor % last_proof == 0):\n",
    "        incrementor += 1\n",
    "    # Once that number is found,\n",
    "    # we can return it as a proof\n",
    "    # of our work\n",
    "    return incrementor\n",
    "\n",
    "@node.route('/mine', methods = ['GET'])\n",
    "def mine():\n",
    "    # Get the last proof of work\n",
    "    last_block = blockchain[len(blockchain) - 1]\n",
    "    last_proof = last_block.data['proof-of-work']\n",
    "    # Find the proof of work for\n",
    "    # the current block being mined\n",
    "    # Note: The program will hang here until a new\n",
    "    #       proof of work is found\n",
    "    proof = proof_of_work(last_proof)\n",
    "    # Once we find a valid proof of work,\n",
    "    # we know we can mine a block so \n",
    "    # we reward the miner by adding a transaction\n",
    "    this_nodes_transactions.append(\n",
    "    { \"from\": \"network\", \"to\": miner_address, \"amount\": 1 }\n",
    "    )\n",
    "    # Now we can gather the data needed\n",
    "    # to create the new block\n",
    "    new_block_data = {\n",
    "    \"proof-of-work\": proof,\n",
    "    \"transactions\": list(this_nodes_transactions)\n",
    "    }\n",
    "    new_block_index = last_block.index + 1\n",
    "    new_block_timestamp = this_timestamp = date.datetime.now()\n",
    "    last_block_hash = last_block.hash\n",
    "    # Empty transaction list\n",
    "    this_nodes_transactions[:] = []\n",
    "    # Now create the\n",
    "    # new block!\n",
    "    mined_block = Block(\n",
    "    new_block_index,\n",
    "    new_block_timestamp,\n",
    "    new_block_data,\n",
    "    last_block_hash\n",
    "    )\n",
    "    blockchain.append(mined_block)\n",
    "    # Let the client know we mined a block\n",
    "    return json.dumps({\n",
    "          \"index\": new_block_index,\n",
    "          \"timestamp\": str(new_block_timestamp),\n",
    "          \"data\": new_block_data,\n",
    "          \"hash\": last_block_hash\n",
    "        }) + \"\\n\""
   ]
  },
  {
   "cell_type": "code",
   "execution_count": null,
   "metadata": {
    "collapsed": true
   },
   "outputs": [],
   "source": []
  },
  {
   "cell_type": "code",
   "execution_count": 19,
   "metadata": {},
   "outputs": [
    {
     "ename": "AssertionError",
     "evalue": "View function mapping is overwriting an existing endpoint function: get_blocks",
     "output_type": "error",
     "traceback": [
      "\u001b[1;31m---------------------------------------------------------------------------\u001b[0m",
      "\u001b[1;31mAssertionError\u001b[0m                            Traceback (most recent call last)",
      "\u001b[1;32m<ipython-input-19-d3003fcca1d6>\u001b[0m in \u001b[0;36m<module>\u001b[1;34m()\u001b[0m\n\u001b[1;32m----> 1\u001b[1;33m \u001b[1;33m@\u001b[0m\u001b[0mnode\u001b[0m\u001b[1;33m.\u001b[0m\u001b[0mroute\u001b[0m\u001b[1;33m(\u001b[0m\u001b[1;34m'/blocks'\u001b[0m\u001b[1;33m,\u001b[0m \u001b[0mmethods\u001b[0m\u001b[1;33m=\u001b[0m\u001b[1;33m[\u001b[0m\u001b[1;34m'GET'\u001b[0m\u001b[1;33m]\u001b[0m\u001b[1;33m)\u001b[0m\u001b[1;33m\u001b[0m\u001b[0m\n\u001b[0m\u001b[0;32m      2\u001b[0m \u001b[1;32mdef\u001b[0m \u001b[0mget_blocks\u001b[0m\u001b[1;33m(\u001b[0m\u001b[1;33m)\u001b[0m\u001b[1;33m:\u001b[0m\u001b[1;33m\u001b[0m\u001b[0m\n\u001b[0;32m      3\u001b[0m     \u001b[0mchain_to_send\u001b[0m \u001b[1;33m=\u001b[0m \u001b[0mblockchain\u001b[0m\u001b[1;33m\u001b[0m\u001b[0m\n\u001b[0;32m      4\u001b[0m     \u001b[1;31m# Convert our blocks into dictionaries\u001b[0m\u001b[1;33m\u001b[0m\u001b[1;33m\u001b[0m\u001b[0m\n\u001b[0;32m      5\u001b[0m     \u001b[1;31m# so we can send them as json objects later\u001b[0m\u001b[1;33m\u001b[0m\u001b[1;33m\u001b[0m\u001b[0m\n",
      "\u001b[1;32mC:\\Users\\xxx.XXX\\Anaconda3\\lib\\site-packages\\flask\\app.py\u001b[0m in \u001b[0;36mdecorator\u001b[1;34m(f)\u001b[0m\n\u001b[0;32m   1078\u001b[0m         \u001b[1;32mdef\u001b[0m \u001b[0mdecorator\u001b[0m\u001b[1;33m(\u001b[0m\u001b[0mf\u001b[0m\u001b[1;33m)\u001b[0m\u001b[1;33m:\u001b[0m\u001b[1;33m\u001b[0m\u001b[0m\n\u001b[0;32m   1079\u001b[0m             \u001b[0mendpoint\u001b[0m \u001b[1;33m=\u001b[0m \u001b[0moptions\u001b[0m\u001b[1;33m.\u001b[0m\u001b[0mpop\u001b[0m\u001b[1;33m(\u001b[0m\u001b[1;34m'endpoint'\u001b[0m\u001b[1;33m,\u001b[0m \u001b[1;32mNone\u001b[0m\u001b[1;33m)\u001b[0m\u001b[1;33m\u001b[0m\u001b[0m\n\u001b[1;32m-> 1080\u001b[1;33m             \u001b[0mself\u001b[0m\u001b[1;33m.\u001b[0m\u001b[0madd_url_rule\u001b[0m\u001b[1;33m(\u001b[0m\u001b[0mrule\u001b[0m\u001b[1;33m,\u001b[0m \u001b[0mendpoint\u001b[0m\u001b[1;33m,\u001b[0m \u001b[0mf\u001b[0m\u001b[1;33m,\u001b[0m \u001b[1;33m**\u001b[0m\u001b[0moptions\u001b[0m\u001b[1;33m)\u001b[0m\u001b[1;33m\u001b[0m\u001b[0m\n\u001b[0m\u001b[0;32m   1081\u001b[0m             \u001b[1;32mreturn\u001b[0m \u001b[0mf\u001b[0m\u001b[1;33m\u001b[0m\u001b[0m\n\u001b[0;32m   1082\u001b[0m         \u001b[1;32mreturn\u001b[0m \u001b[0mdecorator\u001b[0m\u001b[1;33m\u001b[0m\u001b[0m\n",
      "\u001b[1;32mC:\\Users\\xxx.XXX\\Anaconda3\\lib\\site-packages\\flask\\app.py\u001b[0m in \u001b[0;36mwrapper_func\u001b[1;34m(self, *args, **kwargs)\u001b[0m\n\u001b[0;32m     62\u001b[0m                 \u001b[1;34m'database models and everything related at a central place '\u001b[0m\u001b[1;33m\u001b[0m\u001b[0m\n\u001b[0;32m     63\u001b[0m                 'before the application starts serving requests.')\n\u001b[1;32m---> 64\u001b[1;33m         \u001b[1;32mreturn\u001b[0m \u001b[0mf\u001b[0m\u001b[1;33m(\u001b[0m\u001b[0mself\u001b[0m\u001b[1;33m,\u001b[0m \u001b[1;33m*\u001b[0m\u001b[0margs\u001b[0m\u001b[1;33m,\u001b[0m \u001b[1;33m**\u001b[0m\u001b[0mkwargs\u001b[0m\u001b[1;33m)\u001b[0m\u001b[1;33m\u001b[0m\u001b[0m\n\u001b[0m\u001b[0;32m     65\u001b[0m     \u001b[1;32mreturn\u001b[0m \u001b[0mupdate_wrapper\u001b[0m\u001b[1;33m(\u001b[0m\u001b[0mwrapper_func\u001b[0m\u001b[1;33m,\u001b[0m \u001b[0mf\u001b[0m\u001b[1;33m)\u001b[0m\u001b[1;33m\u001b[0m\u001b[0m\n\u001b[0;32m     66\u001b[0m \u001b[1;33m\u001b[0m\u001b[0m\n",
      "\u001b[1;32mC:\\Users\\xxx.XXX\\Anaconda3\\lib\\site-packages\\flask\\app.py\u001b[0m in \u001b[0;36madd_url_rule\u001b[1;34m(self, rule, endpoint, view_func, **options)\u001b[0m\n\u001b[0;32m   1049\u001b[0m             \u001b[1;32mif\u001b[0m \u001b[0mold_func\u001b[0m \u001b[1;32mis\u001b[0m \u001b[1;32mnot\u001b[0m \u001b[1;32mNone\u001b[0m \u001b[1;32mand\u001b[0m \u001b[0mold_func\u001b[0m \u001b[1;33m!=\u001b[0m \u001b[0mview_func\u001b[0m\u001b[1;33m:\u001b[0m\u001b[1;33m\u001b[0m\u001b[0m\n\u001b[0;32m   1050\u001b[0m                 raise AssertionError('View function mapping is overwriting an '\n\u001b[1;32m-> 1051\u001b[1;33m                                      'existing endpoint function: %s' % endpoint)\n\u001b[0m\u001b[0;32m   1052\u001b[0m             \u001b[0mself\u001b[0m\u001b[1;33m.\u001b[0m\u001b[0mview_functions\u001b[0m\u001b[1;33m[\u001b[0m\u001b[0mendpoint\u001b[0m\u001b[1;33m]\u001b[0m \u001b[1;33m=\u001b[0m \u001b[0mview_func\u001b[0m\u001b[1;33m\u001b[0m\u001b[0m\n\u001b[0;32m   1053\u001b[0m \u001b[1;33m\u001b[0m\u001b[0m\n",
      "\u001b[1;31mAssertionError\u001b[0m: View function mapping is overwriting an existing endpoint function: get_blocks"
     ]
    }
   ],
   "source": [
    "@node.route('/blocks', methods=['GET'])\n",
    "def get_blocks():\n",
    "    chain_to_send = blockchain\n",
    "    # Convert our blocks into dictionaries\n",
    "    # so we can send them as json objects later\n",
    "    for block in chain_to_send:\n",
    "        block_index = str(block.index).encode('utf-8')\n",
    "        block_timestamp = str(block.timestamp).encode('utf-8')\n",
    "        block_data = str(block.data).encode('utf-8')\n",
    "        block_hash = block.hash\n",
    "        block = {\n",
    "          \"index\": block_index,\n",
    "          \"timestamp\": block_timestamp,\n",
    "          \"data\": block_data,\n",
    "          \"hash\": block_hash\n",
    "        }\n",
    "    # Send our chain to whomever requested it\n",
    "        chain_to_send = json.dumps(chain_to_send)\n",
    "    return chain_to_send\n",
    "\n",
    "def find_new_chains():\n",
    "    # Get the blockchains of every\n",
    "    # other node\n",
    "    other_chains = []\n",
    "    for node_url in peer_nodes:\n",
    "    # Get their chains using a GET request\n",
    "        block = requests.get(node_url + \"/blocks\").content\n",
    "        # Convert the JSON object to a Python dictionary\n",
    "        block = json.loads(block)\n",
    "        # Add it to our list\n",
    "        other_chains.append(block)\n",
    "    return other_chains\n",
    "\n",
    "def consensus():\n",
    "    # Get the blocks from other nodes\n",
    "    other_chains = find_new_chains()\n",
    "    # If our chain isn't longest,\n",
    "    # then we store the longest chain\n",
    "    longest_chain = blockchain\n",
    "    for chain in other_chains:\n",
    "        if len(longest_chain) < len(chain):\n",
    "            longest_chain = chain\n",
    "    # If the longest chain wasn't ours,\n",
    "    # then we set our chain to the longest\n",
    "            blockchain = longest_chain"
   ]
  },
  {
   "cell_type": "code",
   "execution_count": 24,
   "metadata": {},
   "outputs": [
    {
     "data": {
      "text/plain": [
       "\"Hey! I'm block 1\""
      ]
     },
     "execution_count": 24,
     "metadata": {},
     "output_type": "execute_result"
    }
   ],
   "source": [
    "def get_blocks():\n",
    "    chain_to_send = blockchain\n",
    "    # Convert our blocks into dictionaries\n",
    "    # so we can send them as json objects later\n",
    "    for block in chain_to_send:\n",
    "        block_index = str(block.index).encode('utf-8')\n",
    "        block_timestamp = str(block.timestamp).encode('utf-8')\n",
    "        block_data = str(block.data).encode('utf-8')\n",
    "        block_hash = block.hash\n",
    "        block = {\n",
    "          \"index\": block_index,\n",
    "          \"timestamp\": block_timestamp,\n",
    "          \"data\": block_data,\n",
    "          \"hash\": block_hash\n",
    "        }\n",
    "    # Send our chain to whomever requested it\n",
    "        #chain_to_send = json.dumps(chain_to_send)\n",
    "    return chain_to_send\n",
    "\n",
    "get_blocks()[1].data"
   ]
  },
  {
   "cell_type": "code",
   "execution_count": 26,
   "metadata": {},
   "outputs": [
    {
     "ename": "NameError",
     "evalue": "name 'peer_nodes' is not defined",
     "output_type": "error",
     "traceback": [
      "\u001b[1;31m---------------------------------------------------------------------------\u001b[0m",
      "\u001b[1;31mNameError\u001b[0m                                 Traceback (most recent call last)",
      "\u001b[1;32m<ipython-input-26-ee50ca8e08af>\u001b[0m in \u001b[0;36m<module>\u001b[1;34m()\u001b[0m\n\u001b[0;32m     11\u001b[0m     \u001b[1;31m# then we set our chain to the longest\u001b[0m\u001b[1;33m\u001b[0m\u001b[1;33m\u001b[0m\u001b[0m\n\u001b[0;32m     12\u001b[0m             \u001b[0mblockchain\u001b[0m \u001b[1;33m=\u001b[0m \u001b[0mlongest_chain\u001b[0m\u001b[1;33m\u001b[0m\u001b[0m\n\u001b[1;32m---> 13\u001b[1;33m \u001b[0mconsensus\u001b[0m\u001b[1;33m(\u001b[0m\u001b[1;33m)\u001b[0m\u001b[1;33m\u001b[0m\u001b[0m\n\u001b[0m",
      "\u001b[1;32m<ipython-input-26-ee50ca8e08af>\u001b[0m in \u001b[0;36mconsensus\u001b[1;34m()\u001b[0m\n\u001b[0;32m      1\u001b[0m \u001b[1;32mdef\u001b[0m \u001b[0mconsensus\u001b[0m\u001b[1;33m(\u001b[0m\u001b[1;33m)\u001b[0m\u001b[1;33m:\u001b[0m\u001b[1;33m\u001b[0m\u001b[0m\n\u001b[0;32m      2\u001b[0m     \u001b[1;31m# Get the blocks from other nodes\u001b[0m\u001b[1;33m\u001b[0m\u001b[1;33m\u001b[0m\u001b[0m\n\u001b[1;32m----> 3\u001b[1;33m     \u001b[0mother_chains\u001b[0m \u001b[1;33m=\u001b[0m \u001b[0mfind_new_chains\u001b[0m\u001b[1;33m(\u001b[0m\u001b[1;33m)\u001b[0m\u001b[1;33m\u001b[0m\u001b[0m\n\u001b[0m\u001b[0;32m      4\u001b[0m     \u001b[1;31m# If our chain isn't longest,\u001b[0m\u001b[1;33m\u001b[0m\u001b[1;33m\u001b[0m\u001b[0m\n\u001b[0;32m      5\u001b[0m     \u001b[1;31m# then we store the longest chain\u001b[0m\u001b[1;33m\u001b[0m\u001b[1;33m\u001b[0m\u001b[0m\n",
      "\u001b[1;32m<ipython-input-2-3cfbc800a76b>\u001b[0m in \u001b[0;36mfind_new_chains\u001b[1;34m()\u001b[0m\n\u001b[0;32m     23\u001b[0m     \u001b[1;31m# other node\u001b[0m\u001b[1;33m\u001b[0m\u001b[1;33m\u001b[0m\u001b[0m\n\u001b[0;32m     24\u001b[0m     \u001b[0mother_chains\u001b[0m \u001b[1;33m=\u001b[0m \u001b[1;33m[\u001b[0m\u001b[1;33m]\u001b[0m\u001b[1;33m\u001b[0m\u001b[0m\n\u001b[1;32m---> 25\u001b[1;33m     \u001b[1;32mfor\u001b[0m \u001b[0mnode_url\u001b[0m \u001b[1;32min\u001b[0m \u001b[0mpeer_nodes\u001b[0m\u001b[1;33m:\u001b[0m\u001b[1;33m\u001b[0m\u001b[0m\n\u001b[0m\u001b[0;32m     26\u001b[0m     \u001b[1;31m# Get their chains using a GET request\u001b[0m\u001b[1;33m\u001b[0m\u001b[1;33m\u001b[0m\u001b[0m\n\u001b[0;32m     27\u001b[0m         \u001b[0mblock\u001b[0m \u001b[1;33m=\u001b[0m \u001b[0mrequests\u001b[0m\u001b[1;33m.\u001b[0m\u001b[0mget\u001b[0m\u001b[1;33m(\u001b[0m\u001b[0mnode_url\u001b[0m \u001b[1;33m+\u001b[0m \u001b[1;34m\"/blocks\"\u001b[0m\u001b[1;33m)\u001b[0m\u001b[1;33m.\u001b[0m\u001b[0mcontent\u001b[0m\u001b[1;33m\u001b[0m\u001b[0m\n",
      "\u001b[1;31mNameError\u001b[0m: name 'peer_nodes' is not defined"
     ]
    }
   ],
   "source": [
    "def consensus():\n",
    "    # Get the blocks from other nodes\n",
    "    other_chains = find_new_chains()\n",
    "    # If our chain isn't longest,\n",
    "    # then we store the longest chain\n",
    "    longest_chain = blockchain\n",
    "    for chain in other_chains:\n",
    "        if len(longest_chain) < len(chain):\n",
    "            longest_chain = chain\n",
    "    # If the longest chain wasn't ours,\n",
    "    # then we set our chain to the longest\n",
    "            blockchain = longest_chain\n",
    "consensus()"
   ]
  },
  {
   "cell_type": "code",
   "execution_count": 5,
   "metadata": {},
   "outputs": [
    {
     "name": "stderr",
     "output_type": "stream",
     "text": [
      " * Running on http://127.0.0.1:5004/ (Press CTRL+C to quit)\n"
     ]
    }
   ],
   "source": [
    "from flask import Flask, render_template, json, request\n",
    "\n",
    "from datetime import datetime\n",
    "from threading import Timer\n",
    "\n",
    "app = Flask(__name__)\n",
    "\n",
    "x=datetime.today()\n",
    "y=x.replace(day=x.day+1, hour=12, minute=52, second=0, microsecond=0)\n",
    "delta_t=y-x\n",
    "\n",
    "secs=delta_t.seconds+1\n",
    "\n",
    "@app.route('/')\n",
    "\n",
    "def hello_world():\n",
    "    print (\"hello world\")\n",
    "#...\n",
    "\n",
    "t = Timer(secs, hello_world)\n",
    "t.start()\n",
    "\n",
    "\n",
    "if __name__ == \"__main__\":\n",
    "    app.run(port=5004)"
   ]
  },
  {
   "cell_type": "code",
   "execution_count": null,
   "metadata": {
    "collapsed": true
   },
   "outputs": [],
   "source": [
    "curl \"localhost:5000/txion\" -H \"Content-Type: application/json\" -d '{\"from\": \"akjflw\", \"to\":\"fjlakdj\", \"amount\": 3}'"
   ]
  }
 ],
 "metadata": {
  "kernelspec": {
   "display_name": "Python 3",
   "language": "python",
   "name": "python3"
  },
  "language_info": {
   "codemirror_mode": {
    "name": "ipython",
    "version": 3
   },
   "file_extension": ".py",
   "mimetype": "text/x-python",
   "name": "python",
   "nbconvert_exporter": "python",
   "pygments_lexer": "ipython3",
   "version": "3.6.1"
  }
 },
 "nbformat": 4,
 "nbformat_minor": 2
}
